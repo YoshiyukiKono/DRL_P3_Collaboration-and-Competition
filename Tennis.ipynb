{
 "cells": [
  {
   "cell_type": "markdown",
   "metadata": {},
   "source": [
    "# Collaboration and Competition\n",
    "\n",
    "---\n",
    "\n",
    "In this notebook, you will learn how to use the Unity ML-Agents environment for the third project of the [Deep Reinforcement Learning Nanodegree](https://www.udacity.com/course/deep-reinforcement-learning-nanodegree--nd893) program.\n",
    "\n",
    "### 1. Start the Environment\n",
    "\n",
    "We begin by importing the necessary packages.  If the code cell below returns an error, please revisit the project instructions to double-check that you have installed [Unity ML-Agents](https://github.com/Unity-Technologies/ml-agents/blob/master/docs/Installation.md) and [NumPy](http://www.numpy.org/)."
   ]
  },
  {
   "cell_type": "code",
   "execution_count": 1,
   "metadata": {},
   "outputs": [],
   "source": [
    "from unityagents import UnityEnvironment\n",
    "import numpy as np"
   ]
  },
  {
   "cell_type": "markdown",
   "metadata": {},
   "source": [
    "Next, we will start the environment!  **_Before running the code cell below_**, change the `file_name` parameter to match the location of the Unity environment that you downloaded.\n",
    "\n",
    "- **Mac**: `\"path/to/Tennis.app\"`\n",
    "- **Windows** (x86): `\"path/to/Tennis_Windows_x86/Tennis.exe\"`\n",
    "- **Windows** (x86_64): `\"path/to/Tennis_Windows_x86_64/Tennis.exe\"`\n",
    "- **Linux** (x86): `\"path/to/Tennis_Linux/Tennis.x86\"`\n",
    "- **Linux** (x86_64): `\"path/to/Tennis_Linux/Tennis.x86_64\"`\n",
    "- **Linux** (x86, headless): `\"path/to/Tennis_Linux_NoVis/Tennis.x86\"`\n",
    "- **Linux** (x86_64, headless): `\"path/to/Tennis_Linux_NoVis/Tennis.x86_64\"`\n",
    "\n",
    "For instance, if you are using a Mac, then you downloaded `Tennis.app`.  If this file is in the same folder as the notebook, then the line below should appear as follows:\n",
    "```\n",
    "env = UnityEnvironment(file_name=\"Tennis.app\")\n",
    "```"
   ]
  },
  {
   "cell_type": "code",
   "execution_count": 2,
   "metadata": {},
   "outputs": [
    {
     "name": "stderr",
     "output_type": "stream",
     "text": [
      "INFO:unityagents:\n",
      "'Academy' started successfully!\n",
      "Unity Academy name: Academy\n",
      "        Number of Brains: 1\n",
      "        Number of External Brains : 1\n",
      "        Lesson number : 0\n",
      "        Reset Parameters :\n",
      "\t\t\n",
      "Unity brain name: TennisBrain\n",
      "        Number of Visual Observations (per agent): 0\n",
      "        Vector Observation space type: continuous\n",
      "        Vector Observation space size (per agent): 8\n",
      "        Number of stacked Vector Observation: 3\n",
      "        Vector Action space type: continuous\n",
      "        Vector Action space size (per agent): 2\n",
      "        Vector Action descriptions: , \n"
     ]
    }
   ],
   "source": [
    "env = UnityEnvironment(file_name=\"./Tennis_Windows_x86_64/Tennis.exe\")"
   ]
  },
  {
   "cell_type": "markdown",
   "metadata": {},
   "source": [
    "Environments contain **_brains_** which are responsible for deciding the actions of their associated agents. Here we check for the first brain available, and set it as the default brain we will be controlling from Python."
   ]
  },
  {
   "cell_type": "code",
   "execution_count": 3,
   "metadata": {},
   "outputs": [],
   "source": [
    "# get the default brain\n",
    "brain_name = env.brain_names[0]\n",
    "brain = env.brains[brain_name]"
   ]
  },
  {
   "cell_type": "markdown",
   "metadata": {},
   "source": [
    "### 2. Examine the State and Action Spaces\n",
    "\n",
    "In this environment, two agents control rackets to bounce a ball over a net. If an agent hits the ball over the net, it receives a reward of +0.1.  If an agent lets a ball hit the ground or hits the ball out of bounds, it receives a reward of -0.01.  Thus, the goal of each agent is to keep the ball in play.\n",
    "\n",
    "The observation space consists of 8 variables corresponding to the position and velocity of the ball and racket. Two continuous actions are available, corresponding to movement toward (or away from) the net, and jumping. \n",
    "\n",
    "Run the code cell below to print some information about the environment."
   ]
  },
  {
   "cell_type": "code",
   "execution_count": 4,
   "metadata": {},
   "outputs": [
    {
     "name": "stdout",
     "output_type": "stream",
     "text": [
      "Number of agents: 2\n",
      "Size of each action: 2\n",
      "There are 2 agents. Each observes a state with length: 24\n",
      "The state for the first agent looks like: [ 0.          0.          0.          0.          0.          0.\n",
      "  0.          0.          0.          0.          0.          0.\n",
      "  0.          0.          0.          0.         -6.65278625 -1.5\n",
      " -0.          0.          6.83172083  6.         -0.          0.        ]\n"
     ]
    }
   ],
   "source": [
    "# reset the environment\n",
    "env_info = env.reset(train_mode=True)[brain_name]\n",
    "\n",
    "# number of agents \n",
    "num_agents = len(env_info.agents)\n",
    "print('Number of agents:', num_agents)\n",
    "\n",
    "# size of each action\n",
    "action_size = brain.vector_action_space_size\n",
    "print('Size of each action:', action_size)\n",
    "\n",
    "# examine the state space \n",
    "states = env_info.vector_observations\n",
    "state_size = states.shape[1]\n",
    "print('There are {} agents. Each observes a state with length: {}'.format(states.shape[0], state_size))\n",
    "print('The state for the first agent looks like:', states[0])"
   ]
  },
  {
   "cell_type": "code",
   "execution_count": 5,
   "metadata": {},
   "outputs": [
    {
     "data": {
      "text/plain": [
       "array([[ 0.        ,  0.        ,  0.        ,  0.        ,  0.        ,\n",
       "         0.        ,  0.        ,  0.        ,  0.        ,  0.        ,\n",
       "         0.        ,  0.        ,  0.        ,  0.        ,  0.        ,\n",
       "         0.        , -6.65278625, -1.5       , -0.        ,  0.        ,\n",
       "         6.83172083,  6.        , -0.        ,  0.        ],\n",
       "       [ 0.        ,  0.        ,  0.        ,  0.        ,  0.        ,\n",
       "         0.        ,  0.        ,  0.        ,  0.        ,  0.        ,\n",
       "         0.        ,  0.        ,  0.        ,  0.        ,  0.        ,\n",
       "         0.        , -6.4669857 , -1.5       ,  0.        ,  0.        ,\n",
       "        -6.83172083,  6.        ,  0.        ,  0.        ]])"
      ]
     },
     "execution_count": 5,
     "metadata": {},
     "output_type": "execute_result"
    }
   ],
   "source": [
    "env_info.vector_observations"
   ]
  },
  {
   "cell_type": "markdown",
   "metadata": {},
   "source": [
    "### 3. Take Random Actions in the Environment\n",
    "\n",
    "In the next code cell, you will learn how to use the Python API to control the agents and receive feedback from the environment.\n",
    "\n",
    "Once this cell is executed, you will watch the agents' performance, if they select actions at random with each time step.  A window should pop up that allows you to observe the agents.\n",
    "\n",
    "Of course, as part of the project, you'll have to change the code so that the agents are able to use their experiences to gradually choose better actions when interacting with the environment!"
   ]
  },
  {
   "cell_type": "code",
   "execution_count": 6,
   "metadata": {
    "scrolled": true
   },
   "outputs": [
    {
     "name": "stdout",
     "output_type": "stream",
     "text": [
      "Score (max over agents) from episode 1: 0.0\n",
      "Score (max over agents) from episode 2: 0.0\n",
      "Score (max over agents) from episode 3: 0.0\n",
      "Score (max over agents) from episode 4: 0.0\n",
      "Score (max over agents) from episode 5: 0.0\n"
     ]
    }
   ],
   "source": [
    "for i in range(1, 6):                                      # play game for 5 episodes\n",
    "    env_info = env.reset(train_mode=False)[brain_name]     # reset the environment    \n",
    "    states = env_info.vector_observations                  # get the current state (for each agent)\n",
    "    scores = np.zeros(num_agents)                          # initialize the score (for each agent)\n",
    "    while True:\n",
    "        actions = np.random.randn(num_agents, action_size) # select an action (for each agent)\n",
    "        actions = np.clip(actions, -1, 1)                  # all actions between -1 and 1\n",
    "        env_info = env.step(actions)[brain_name]           # send all actions to tne environment\n",
    "        next_states = env_info.vector_observations         # get next state (for each agent)\n",
    "        rewards = env_info.rewards                         # get reward (for each agent)\n",
    "        dones = env_info.local_done                        # see if episode finished\n",
    "        scores += env_info.rewards                         # update the score (for each agent)\n",
    "        states = next_states                               # roll over states to next time step\n",
    "        if np.any(dones):                                  # exit loop if episode finished\n",
    "            break\n",
    "    print('Score (max over agents) from episode {}: {}'.format(i, np.max(scores)))"
   ]
  },
  {
   "cell_type": "code",
   "execution_count": 7,
   "metadata": {},
   "outputs": [
    {
     "data": {
      "text/plain": [
       "array([[-0.66378141,  0.26826919],\n",
       "       [-0.43405103,  0.79725071]])"
      ]
     },
     "execution_count": 7,
     "metadata": {},
     "output_type": "execute_result"
    }
   ],
   "source": [
    "actions = np.random.randn(num_agents, action_size)\n",
    "actions"
   ]
  },
  {
   "cell_type": "code",
   "execution_count": 8,
   "metadata": {},
   "outputs": [
    {
     "data": {
      "text/plain": [
       "array([[-0.66378141,  0.26826919],\n",
       "       [-0.43405103,  0.79725071]])"
      ]
     },
     "execution_count": 8,
     "metadata": {},
     "output_type": "execute_result"
    }
   ],
   "source": [
    "actions = np.clip(actions, -1, 1) \n",
    "actions"
   ]
  },
  {
   "cell_type": "markdown",
   "metadata": {},
   "source": [
    "### 4. It's Your Turn!\n",
    "\n",
    "Now it's your turn to train your own agent to solve the environment!  When training the environment, set `train_mode=True`, so that the line for resetting the environment looks like the following:\n",
    "```python\n",
    "env_info = env.reset(train_mode=True)[brain_name]\n",
    "```"
   ]
  },
  {
   "cell_type": "markdown",
   "metadata": {},
   "source": [
    "The first thing I noticed is in your actor NN model, I would recommend the output be just the tanh() of the final layer, not 10xnormalized tanh(). The output should be between -1.0 and +1.0 and tanh() gives exactly that range of values.\n",
    "\n",
    "Next, in your OU noise definition, I would recommend reducing sigma to 0.1 or perhaps even 0.05. You can also reduce the scale value over time, multiplying the initial 1.0 value by a constant near one (say, 0.9995, each episode (or, something smaller even if you reduce it each mini-step rather than each episode)\n",
    "\n"
   ]
  },
  {
   "cell_type": "markdown",
   "metadata": {},
   "source": [
    "goal: an average score of +0.5 over 100 consecutive episodes, after taking maximim over both agents."
   ]
  },
  {
   "cell_type": "markdown",
   "metadata": {},
   "source": [
    "# Another Attempt"
   ]
  },
  {
   "cell_type": "code",
   "execution_count": 9,
   "metadata": {},
   "outputs": [],
   "source": [
    "import numpy as np\n",
    "\n",
    "import torch\n",
    "import torch.nn as nn\n",
    "import torch.nn.functional as F\n",
    "\n",
    "def hidden_init(layer):\n",
    "    fan_in = layer.weight.data.size()[0]\n",
    "    lim = 1. / np.sqrt(fan_in)\n",
    "    return (-lim, lim)\n",
    "\n",
    "class Actor(nn.Module):\n",
    "    \"\"\"Actor (Policy) Model.\"\"\"\n",
    "\n",
    "    def __init__(self, state_size, action_size, seed, fc_units=256):\n",
    "        \"\"\"Initialize parameters and build model.\n",
    "        Params\n",
    "        ======\n",
    "            state_size (int): Dimension of each state\n",
    "            action_size (int): Dimension of each action\n",
    "            seed (int): Random seed\n",
    "            fc1_units (int): Number of nodes in first hidden layer\n",
    "            fc2_units (int): Number of nodes in second hidden layer\n",
    "        \"\"\"\n",
    "        super(Actor, self).__init__()\n",
    "        self.seed = torch.manual_seed(seed)\n",
    "        self.fc1 = nn.Linear(state_size, fc_units)\n",
    "        self.fc2 = nn.Linear(fc_units, action_size)\n",
    "        self.reset_parameters()\n",
    "\n",
    "    def reset_parameters(self):\n",
    "        self.fc1.weight.data.uniform_(*hidden_init(self.fc1))\n",
    "        self.fc2.weight.data.uniform_(-3e-3, 3e-3)\n",
    "\n",
    "    def forward(self, state):\n",
    "        \"\"\"Build an actor (policy) network that maps states -> actions.\"\"\"\n",
    "        x = F.relu(self.fc1(state))\n",
    "        return F.tanh(self.fc2(x))\n",
    "class Critic(nn.Module):\n",
    "    \"\"\"Critic (Value) Model.\"\"\"\n",
    "\n",
    "    def __init__(self, state_size, action_size, seed, fcs1_units=256, fc2_units=256, fc3_units=128):\n",
    "        \"\"\"Initialize parameters and build model.\n",
    "        Params\n",
    "        ======\n",
    "            state_size (int): Dimension of each state\n",
    "            action_size (int): Dimension of each action\n",
    "            seed (int): Random seed\n",
    "            fcs1_units (int): Number of nodes in the first hidden layer\n",
    "            fc2_units (int): Number of nodes in the second hidden layer\n",
    "        \"\"\"\n",
    "        super(Critic, self).__init__()\n",
    "        self.seed = torch.manual_seed(seed)\n",
    "        self.fcs1 = nn.Linear(state_size, fcs1_units)\n",
    "        self.fc2 = nn.Linear(fcs1_units+action_size, fc2_units)\n",
    "        self.fc3 = nn.Linear(fc2_units, fc3_units)\n",
    "        self.fc4 = nn.Linear(fc3_units, 1)\n",
    "        self.reset_parameters()\n",
    "\n",
    "    def reset_parameters(self):\n",
    "        self.fcs1.weight.data.uniform_(*hidden_init(self.fcs1))\n",
    "        self.fc2.weight.data.uniform_(*hidden_init(self.fc2))\n",
    "        self.fc3.weight.data.uniform_(*hidden_init(self.fc3))\n",
    "        self.fc4.weight.data.uniform_(-3e-3, 3e-3)\n",
    "\n",
    "    def forward(self, state, action):\n",
    "        \"\"\"Build a critic (value) network that maps (state, action) pairs -> Q-values.\"\"\"\n",
    "        xs = F.leaky_relu(self.fcs1(state))\n",
    "        x = torch.cat((xs, action), dim=1)\n",
    "        x = F.leaky_relu(self.fc2(x))\n",
    "        x = F.leaky_relu(self.fc3(x))\n",
    "        return self.fc4(x)"
   ]
  },
  {
   "cell_type": "code",
   "execution_count": 10,
   "metadata": {},
   "outputs": [],
   "source": [
    "import numpy as np\n",
    "import random\n",
    "import copy\n",
    "from collections import namedtuple, deque\n",
    "\n",
    "import torch\n",
    "import torch.nn.functional as F\n",
    "import torch.optim as optim\n",
    "\n",
    "BUFFER_SIZE = int(1e6)  # replay buffer size\n",
    "BATCH_SIZE = 1024 # 128        # minibatch size\n",
    "GAMMA = 0.99            # discount factor\n",
    "TAU = 1e-3              # for soft update of target parameters\n",
    "LR_ACTOR = 1e-4         # learning rate of the actor \n",
    "LR_CRITIC = 3e-4        # learning rate of the critic\n",
    "WEIGHT_DECAY = 0.0001   # L2 weight decay\n",
    "\n",
    "device = torch.device(\"cuda:0\" if torch.cuda.is_available() else \"cpu\")\n",
    "\n",
    "\n",
    "class OUNoiseMA:\n",
    "    \"\"\"Ornstein-Uhlenbeck process.\"\"\"\n",
    "\n",
    "    #def __init__(self, size, seed, mu=0., theta=0.15, sigma=0.2):\n",
    "    def __init__(self, size, seed, mu=0., theta=0.15, sigma=0.05):\n",
    "        \"\"\"Initialize parameters and noise process.\"\"\"\n",
    "        self.mu = mu * np.ones(size)\n",
    "        self.theta = theta\n",
    "        self.sigma = sigma\n",
    "        self.seed = random.seed(seed)\n",
    "        self.reset()\n",
    "\n",
    "    def reset(self):\n",
    "        \"\"\"Reset the internal state (= noise) to mean (mu).\"\"\"\n",
    "        self.state = copy.copy(self.mu)\n",
    "\n",
    "    def sample(self):\n",
    "        \"\"\"Update internal state and return it as a noise sample.\"\"\"\n",
    "        x = self.state\n",
    "        dx = self.theta * (self.mu - x) + self.sigma * np.array([random.random() for i in range(len(x))])\n",
    "        self.state = x + dx\n",
    "        return self.state\n",
    "\n",
    "class ReplayBufferMA:\n",
    "    \"\"\"Fixed-size buffer to store experience tuples.\"\"\"\n",
    "\n",
    "    def __init__(self, action_size, buffer_size, batch_size, seed):\n",
    "        \"\"\"Initialize a ReplayBuffer object.\n",
    "        Params\n",
    "        ======\n",
    "            buffer_size (int): maximum size of buffer\n",
    "            batch_size (int): size of each training batch\n",
    "        \"\"\"\n",
    "        self.action_size = action_size\n",
    "        self.memory = deque(maxlen=buffer_size)  # internal memory (deque)\n",
    "        self.batch_size = batch_size\n",
    "        self.experience = namedtuple(\"Experience\", field_names=[\"state\", \"state_full\", \"action\", \"action_full\", \"reward\", \"states_array\", \"next_states_array\", \"done\"])\n",
    "        self.seed = random.seed(seed)\n",
    "    \n",
    "    def add(self, states, states_full, actions, actions_full, rewards, states_array, next_states_array, dones):\n",
    "        \"\"\"Add a new experience to memory.\"\"\"\n",
    "        e = self.experience(states, states_full, actions, actions_full, rewards, states_array, next_states_array, dones)\n",
    "        self.memory.append(e)\n",
    "    \n",
    "    def sample(self):\n",
    "        \"\"\"Randomly sample a batch of experiences from memory.\"\"\"\n",
    "        experiences = random.sample(self.memory, k=self.batch_size)\n",
    "\n",
    "        states = torch.from_numpy(np.vstack([e.state for e in experiences if e is not None])).float().to(device)\n",
    "        states_full = torch.from_numpy(np.vstack([e.state_full for e in experiences if e is not None])).float().to(device)\n",
    "        actions = torch.from_numpy(np.vstack([e.action for e in experiences if e is not None])).float().to(device)\n",
    "        actions_full = torch.from_numpy(np.vstack([e.action_full for e in experiences if e is not None])).float().to(device)\n",
    "        rewards = torch.from_numpy(np.vstack([e.reward for e in experiences if e is not None])).float().to(device)\n",
    "\n",
    "        states_array = [e.states_array for e in experiences if e is not None]\n",
    "        next_states_array = [e.next_states_array for e in experiences if e is not None]\n",
    "        \n",
    "        dones = torch.from_numpy(np.vstack([e.done for e in experiences if e is not None]).astype(np.uint8)).float().to(device)\n",
    "\n",
    "        return (states, states_full, actions, actions_full, rewards, states_array, next_states_array, dones) \n",
    "\n",
    "    def __len__(self):\n",
    "        \"\"\"Return the current size of internal memory.\"\"\"\n",
    "        return len(self.memory)"
   ]
  },
  {
   "cell_type": "code",
   "execution_count": 40,
   "metadata": {},
   "outputs": [],
   "source": [
    "class AgentWoCritic():\n",
    "    \"\"\"Interacts with and learns from the environment.\"\"\"\n",
    "    \n",
    "    def __init__(self, state_size, action_size, random_seed):\n",
    "        \"\"\"Initialize an Agent object.\n",
    "        \n",
    "        Params\n",
    "        ======\n",
    "            state_size (int): dimension of each state\n",
    "            action_size (int): dimension of each action\n",
    "            random_seed (int): random seed\n",
    "        \"\"\"\n",
    "        self.state_size = state_size\n",
    "        self.action_size = action_size\n",
    "        self.seed = random.seed(random_seed)\n",
    "        \n",
    "        self.num_agent = 2\n",
    "\n",
    "        # Actor Network (w/ Target Network)\n",
    "        self.actor_local = Actor(state_size, action_size, random_seed).to(device)\n",
    "        self.actor_target = Actor(state_size, action_size, random_seed).to(device)\n",
    "        self.actor_optimizer = optim.Adam(self.actor_local.parameters(), lr=LR_ACTOR)\n",
    "\n",
    "        # Noise process\n",
    "        self.noise = OUNoiseMA(action_size, random_seed)\n",
    "\n",
    "    def act(self, state, noise, add_noise=True):\n",
    "        \"\"\"Returns actions for given state as per current policy.\"\"\"\n",
    "        state = torch.from_numpy(state).float().to(device)\n",
    "        self.actor_local.eval()\n",
    "        with torch.no_grad():\n",
    "            action = self.actor_local(state).cpu().data.numpy()\n",
    "        self.actor_local.train()\n",
    "        if add_noise:\n",
    "            action += self.noise.sample()*noise\n",
    "        return np.clip(action, -1, 1)\n",
    "\n",
    "    def reset(self):\n",
    "        self.noise.reset()\n",
    "        \n",
    "    def target_act(self, obs_all_agents):\n",
    "        #\"\"\"get target network actions from all the agents in the MADDPG object \"\"\"\n",
    "        target_actions = [self.actor_target(torch.from_numpy(np.array(obs)).float().to(device)) for obs in obs_all_agents]\n",
    "\n",
    "        return target_actions\n"
   ]
  },
  {
   "cell_type": "code",
   "execution_count": 37,
   "metadata": {},
   "outputs": [],
   "source": [
    "# main code that contains the neural network setup\n",
    "# policy + critic updates\n",
    "# see ddpg.py for other details in the network\n",
    "\n",
    "import torch\n",
    "device = torch.device(\"cuda\" if torch.cuda.is_available() else \"cpu\")\n",
    "\n",
    "class MultiAgentDDPGwCritic:\n",
    "    def __init__(self, num_agents, state_size, action_size, random_seed=2): #discount_factor=0.95, tau=0.02):\n",
    "        self.num_agents = num_agents\n",
    "        self.agents = []\n",
    "        self.memories = []\n",
    "        for i in range(num_agents):\n",
    "            self.memories.append(ReplayBufferMA(action_size, BUFFER_SIZE, BATCH_SIZE, 0))   \n",
    "            self.agents.append(AgentWoCritic(state_size=state_size, action_size=action_size, random_seed=2))\n",
    "  \n",
    "        # Critic Network (w/ Target Network)\n",
    "        self.critic_local = Critic(state_size*self.num_agents, action_size*self.num_agents, random_seed).to(device)\n",
    "        self.critic_target = Critic(state_size*self.num_agents, action_size*self.num_agents, random_seed).to(device)\n",
    "        self.critic_optimizer = optim.Adam(self.critic_local.parameters(), lr=LR_CRITIC, weight_decay=WEIGHT_DECAY)\n",
    "\n",
    "        # Noise process\n",
    "        self.noise = OUNoiseMA(action_size, random_seed)\n",
    "\n",
    "    def act(self, obs_all_agents, noise=0.0):\n",
    "        \"\"\"get actions from all agents in the MADDPG object\"\"\"\n",
    "        actions = [agent.act(obs, noise) for agent, obs in zip(self.agents, obs_all_agents)]\n",
    "        return actions\n",
    "\n",
    "\n",
    "    def target_act(self, obs_all_agents):\n",
    "        #\"\"\"get target network actions from all the agents in the MADDPG object \"\"\"\n",
    "        target_actions = [self.agents[i].actor_target(torch.from_numpy(np.array(obs_all_agents[i])).float().to(device)) for i in range(len(obs_all_agents))]\n",
    "\n",
    "        return target_actions\n",
    "\n",
    "\n",
    "    def update_targets(self):\n",
    "        \"\"\"soft update targets\"\"\"\n",
    "        for agent in self.agents:\n",
    "            soft_update(agent.actor_target, agent.actor_local, self.tau)\n",
    "            soft_update(agent.critic_target, agent.critic_local, self.tau)\n",
    "\n",
    "    def step(self, gamma):\n",
    "        for i in range(self.num_agents):\n",
    "            experiences = self.memories[i].sample()\n",
    "            self.learn(self.agents[i], experiences, gamma)\n",
    "        \n",
    "    def learn(self, self_agent, experiences, gamma):\n",
    "        \"\"\"Update policy and value parameters using given batch of experience tuples.\n",
    "        Q_targets = r + γ * critic_target(next_state, actor_target(next_state))\n",
    "        where:\n",
    "            actor_target(state) -> action\n",
    "            critic_target(state, action) -> Q-value\n",
    "        Params\n",
    "        ======\n",
    "            experiences (Tuple[torch.Tensor]): tuple of (s, a, r, s', done) tuples \n",
    "            gamma (float): discount factor\n",
    "        \"\"\"\n",
    "\n",
    "        states, states_full, actions, actions_full, rewards, states_array, next_states_array, dones = experiences\n",
    "\n",
    "        # ---------------------------- update ALL critics ---------------------------- #\n",
    "        # Get predicted next-state actions and Q values from target models        \n",
    "        states_per_agent = np.transpose(states_array,(1,0,2))\n",
    "        next_states_per_agent = np.transpose(next_states_array,(1,0,2))\n",
    "\n",
    "        target_actions_array = self.target_act(next_states_per_agent)\n",
    "\n",
    "        target_actions_full = torch.cat(target_actions_array, dim=1)\n",
    "        \n",
    "        states_array = []\n",
    "        for states in states_per_agent:\n",
    "            states_array.append(torch.from_numpy(states).float().to(device))\n",
    "        \n",
    "        next_states_array = []\n",
    "        for next_states in next_states_per_agent:\n",
    "            next_states_array.append(torch.from_numpy(next_states).float().to(device))\n",
    "\n",
    "        next_states_full = torch.cat(next_states_array, dim=1)\n",
    "        \n",
    "        Q_targets_next = self.critic_target(next_states_full, target_actions_full)\n",
    "        \n",
    "        \n",
    "        # Compute Q targets for current states (y_i)\n",
    "        Q_targets = rewards + (gamma * Q_targets_next * (1 - dones))\n",
    "        # Compute critic loss        \n",
    "        Q_expected = self.critic_local(states_full, actions_full)\n",
    "        \n",
    "        critic_loss = F.mse_loss(Q_expected, Q_targets)\n",
    "        # Minimize the loss\n",
    "        self.critic_optimizer.zero_grad()\n",
    "        \n",
    "        critic_loss.backward()\n",
    "\n",
    "        self.critic_optimizer.step()\n",
    "\n",
    "        # ---------------------------- update actor ---------------------------- #\n",
    "        \n",
    "        # Compute actor loss\n",
    "        actions_pred_array = []\n",
    "        for i in range(len(states_array)):\n",
    "            actions_pred = self.agents[i].actor_local(states_array[i])            \n",
    "            actions_pred_array.append(actions_pred)\n",
    "        actions_pred_full = torch.cat(actions_pred_array, dim=1)\n",
    "        actor_loss = -self.critic_local(states_full, actions_pred_full).mean()\n",
    "        \n",
    "        \n",
    "        # Minimize the loss\n",
    "        self_agent.actor_optimizer.zero_grad()\n",
    "\n",
    "        actor_loss.backward()\n",
    "\n",
    "        self_agent.actor_optimizer.step()\n",
    "\n",
    "        # ----------------------- update target networks ----------------------- #\n",
    "        self.soft_update(self.critic_local, self.critic_target, TAU)\n",
    "        \n",
    "        self.soft_update(self_agent.actor_local, self_agent.actor_target, TAU)\n",
    "\n",
    "            \n",
    "    def save(self):\n",
    "        for i in range(len(self.agents)):\n",
    "            torch.save(self.agents[i].actor_local.state_dict(), 'checkpoint_actor{}.pth'.format(i))\n",
    "        torch.save(self.critic_local.state_dict(), 'checkpoint_critic.pth')\n",
    "\n",
    "    def reset(self):\n",
    "        for i in range(len(self.agents)):\n",
    "            self.agents[i].reset()\n",
    "    def memory_size(self):\n",
    "        return len(self.memories[0])\n",
    "\n",
    "    def soft_update(self, local_model, target_model, tau):\n",
    "        \"\"\"Soft update model parameters.\n",
    "        θ_target = τ*θ_local + (1 - τ)*θ_target\n",
    "        Params\n",
    "        ======\n",
    "            local_model: PyTorch model (weights will be copied from)\n",
    "            target_model: PyTorch model (weights will be copied to)\n",
    "            tau (float): interpolation parameter \n",
    "        \"\"\"\n",
    "        for target_param, local_param in zip(target_model.parameters(), local_model.parameters()):\n",
    "            target_param.data.copy_(tau*local_param.data + (1.0-tau)*target_param.data)"
   ]
  },
  {
   "cell_type": "code",
   "execution_count": 38,
   "metadata": {
    "scrolled": true
   },
   "outputs": [],
   "source": [
    "def ma_ddpg(multi_agent, num_agents, n_episodes=1000, max_t=300, print_every=100):\n",
    "    \n",
    "    scores_total = []                         # list containing scores from each episode\n",
    "    try:\n",
    "        return run_ma_ddpg(multi_agent, num_agents, scores_total, n_episodes, max_t, print_every)\n",
    "    except KeyboardInterrupt:\n",
    "        return scores_total\n",
    "\n",
    "def run_ma_ddpg(multi_agent, num_agents,scores_total, n_episodes=1000, max_t=300, print_every=100):\n",
    "\n",
    "    scores_window = deque(maxlen=print_every)  # last `print_every`(default:100) times scores \n",
    "\n",
    "    # amplitude of OU noise\n",
    "    # this slowly decreases to 0\n",
    "    noise = 1\n",
    "    noise_reduction = 0.9999\n",
    "    \n",
    "    max_score = -1\n",
    "    learning = False\n",
    "    for i_episode in range(1, n_episodes+1):\n",
    "        \n",
    "        env_info = env.reset(train_mode=True)[brain_name]      # reset the environment    \n",
    "        states = env_info.vector_observations                  # get the current state (for each agent)\n",
    "\n",
    "        scores = np.zeros(num_agents) \n",
    "\n",
    "        multi_agent.reset()\n",
    "\n",
    "        while True:\n",
    "            actions = multi_agent.act(states, noise)\n",
    "\n",
    "            noise *= noise_reduction\n",
    "            \n",
    "            env_info = env.step(actions)[brain_name]    # send all actions to tne environment\n",
    "            next_states = env_info.vector_observations  # get next state (for each agent)\n",
    "            rewards = env_info.rewards                  # get reward (for each agent)\n",
    "            dones = env_info.local_done                 # see if episode finished\n",
    "            scores += env_info.rewards                  # update the score (for each agent)\n",
    "\n",
    "            states_full = []\n",
    "            actions_full = []\n",
    "            states_array = []\n",
    "            next_states_array = []\n",
    "            for i in range(len(states)):\n",
    "                states_full.extend(states[i])\n",
    "                actions_full.extend(actions[i])\n",
    "                states_array.append(states[i])\n",
    "                next_states_array.append(next_states[i])\n",
    "        \n",
    "            for i in range(len(states)):\n",
    "                multi_agent.memories[i].add(states[i], states_full, actions[i], actions_full, rewards[i], \n",
    "                                            states_array, next_states_array, dones[i])\n",
    "            \n",
    "            if multi_agent.memory_size() > BATCH_SIZE:\n",
    "                learning = True\n",
    "                if i_episode % 20 == 0:\n",
    "                    for j in range(10):\n",
    "                        multi_agent.step(GAMMA)\n",
    "\n",
    "            states = next_states\n",
    "            if np.any(dones):\n",
    "                break\n",
    "\n",
    "        scores_window.append(np.mean(scores))       # save most recent score\n",
    "        scores_total.append(np.mean(scores))        # save most recent score\n",
    "        \n",
    "        print('\\rScore (max/min over agents) from episode {}: {:.5f}/{:.5f} - ({:.5f}/{:.5f}) - {}'.format(i_episode, np.max(scores), np.min(scores), np.max(actions), np.min(actions), learning), end=\"\")\n",
    "        if i_episode % print_every == 0:\n",
    "            print('\\rScore (max/min over agents) from episode {}: {:.5f}/{:.5f} - ({:.5f}/{:.5f}) - {}'.format(i_episode, np.max(scores_window), np.min(scores_window), np.max(actions), np.min(actions), learning))\n",
    "\n",
    "            if max_score < np.max(scores_window):\n",
    "                max_score = np.max(scores_window)\n",
    "                multi_agent.save()\n",
    "       \n",
    "    return scores_total"
   ]
  },
  {
   "cell_type": "code",
   "execution_count": 44,
   "metadata": {},
   "outputs": [
    {
     "name": "stdout",
     "output_type": "stream",
     "text": [
      "Score (max/min over agents) from episode 20: 0.04500/-0.00500 - (0.18135/0.12094) - False\n",
      "Score (max/min over agents) from episode 40: 0.09500/-0.00500 - (0.21808/0.07564) - False\n",
      "Score (max/min over agents) from episode 60: -0.00500/-0.00500 - (1.00000/-0.85378) - True\n",
      "Score (max/min over agents) from episode 80: -0.00500/-0.00500 - (1.00000/-0.88918) - True\n",
      "Score (max/min over agents) from episode 100: -0.00500/-0.00500 - (1.00000/-0.86096) - True\n",
      "Score (max/min over agents) from episode 120: -0.00500/-0.00500 - (1.00000/-0.88929) - True\n",
      "Score (max/min over agents) from episode 140: -0.00500/-0.00500 - (1.00000/-0.88233) - True\n",
      "Score (max/min over agents) from episode 160: -0.00500/-0.00500 - (1.00000/-0.86589) - True\n",
      "Score (max/min over agents) from episode 180: -0.00500/-0.00500 - (1.00000/-0.91196) - True\n",
      "Score (max/min over agents) from episode 200: -0.00500/-0.00500 - (1.00000/-0.89787) - True\n",
      "Score (max/min over agents) from episode 220: -0.00500/-0.00500 - (1.00000/-0.92125) - True\n",
      "Score (max/min over agents) from episode 240: -0.00500/-0.00500 - (1.00000/-0.91206) - True\n",
      "Score (max/min over agents) from episode 260: -0.00500/-0.00500 - (1.00000/-0.87953) - True\n",
      "Score (max/min over agents) from episode 280: -0.00500/-0.00500 - (1.00000/-0.88900) - True\n",
      "Score (max/min over agents) from episode 300: -0.00500/-0.00500 - (1.00000/-0.90339) - True\n",
      "Score (max/min over agents) from episode 320: -0.00500/-0.00500 - (1.00000/-0.90783) - True\n",
      "Score (max/min over agents) from episode 340: -0.00500/-0.00500 - (1.00000/-0.92363) - True\n",
      "Score (max/min over agents) from episode 360: -0.00500/-0.00500 - (1.00000/-0.94881) - True\n",
      "Score (max/min over agents) from episode 380: -0.00500/-0.00500 - (1.00000/-0.92096) - True\n",
      "Score (max/min over agents) from episode 400: -0.00500/-0.00500 - (1.00000/-0.92758) - True\n",
      "Score (max/min over agents) from episode 420: -0.00500/-0.00500 - (1.00000/-0.93110) - True\n",
      "Score (max/min over agents) from episode 440: -0.00500/-0.00500 - (1.00000/-0.92671) - True\n",
      "Score (max/min over agents) from episode 460: -0.00500/-0.00500 - (1.00000/-0.93693) - True\n",
      "Score (max/min over agents) from episode 480: -0.00500/-0.00500 - (1.00000/-0.93760) - True\n",
      "Score (max/min over agents) from episode 500: -0.00500/-0.00500 - (1.00000/-0.93637) - True\n",
      "Score (max/min over agents) from episode 520: -0.00500/-0.00500 - (1.00000/-0.93411) - True\n",
      "Score (max/min over agents) from episode 540: -0.00500/-0.00500 - (1.00000/-0.93142) - True\n",
      "Score (max/min over agents) from episode 560: -0.00500/-0.00500 - (1.00000/-0.94643) - True\n",
      "Score (max/min over agents) from episode 580: -0.00500/-0.00500 - (1.00000/-0.95482) - True\n",
      "Score (max/min over agents) from episode 600: -0.00500/-0.00500 - (1.00000/-0.94379) - True\n",
      "Score (max/min over agents) from episode 620: -0.00500/-0.00500 - (1.00000/-0.93635) - True\n",
      "Score (max/min over agents) from episode 640: -0.00500/-0.00500 - (1.00000/-0.95560) - True\n",
      "Score (max/min over agents) from episode 660: -0.00500/-0.00500 - (1.00000/-0.95357) - True\n",
      "Score (max/min over agents) from episode 680: -0.00500/-0.00500 - (1.00000/-0.94351) - True\n",
      "Score (max/min over agents) from episode 700: -0.00500/-0.00500 - (1.00000/-0.94691) - True\n",
      "Score (max/min over agents) from episode 720: -0.00500/-0.00500 - (1.00000/-0.96132) - True\n",
      "Score (max/min over agents) from episode 740: -0.00500/-0.00500 - (1.00000/-0.96085) - True\n",
      "Score (max/min over agents) from episode 760: -0.00500/-0.00500 - (1.00000/-0.95097) - True\n",
      "Score (max/min over agents) from episode 780: -0.00500/-0.00500 - (1.00000/-0.95729) - True\n",
      "Score (max/min over agents) from episode 799: 0.00000/-0.01000 - (1.00000/-0.96558) - True"
     ]
    },
    {
     "data": {
      "image/png": "[encoded data removed]",
      "text/plain": [
       "<Figure size 432x288 with 1 Axes>"
      ]
     },
     "metadata": {
      "needs_background": "light"
     },
     "output_type": "display_data"
    }
   ],
   "source": [
    "multi_agent = MultiAgentDDPGwCritic(num_agents, state_size, action_size)\n",
    "\n",
    "#4. Increase max_t from 300 to 1,000only_memories\n",
    "scores = ma_ddpg(multi_agent, num_agents, n_episodes=3000, max_t=3000, print_every=20)\n",
    "\n",
    "import matplotlib.pyplot as plt\n",
    "%matplotlib inline\n",
    "\n",
    "fig = plt.figure()\n",
    "ax = fig.add_subplot(111)\n",
    "plt.plot(np.arange(1, len(scores)+1), scores)\n",
    "plt.ylabel('Score')\n",
    "plt.xlabel('Episode #')\n",
    "plt.show()"
   ]
  },
  {
   "cell_type": "markdown",
   "metadata": {},
   "source": [
    "### 5. Watch a Smart Agent!\n",
    "In the next code cell, you will load the trained weights from file to watch a smart agent!"
   ]
  },
  {
   "cell_type": "code",
   "execution_count": 42,
   "metadata": {},
   "outputs": [],
   "source": [
    "def watch_agent(agent):\n",
    "    env_info = env.reset(train_mode=False)[brain_name]     # reset the environment    \n",
    "    states = env_info.vector_observations                  # get the current state (for each agent)\n",
    "    scores = np.zeros(num_agents)                          # initialize the score (for each agent)\n",
    "    while True:\n",
    "        actions = agent.act(states)\n",
    "        \n",
    "        env_info = env.step(actions)[brain_name]\n",
    "\n",
    "        next_states = env_info.vector_observations         # get next state (for each agent)\n",
    "        rewards = env_info.rewards                         # get reward (for each agent)\n",
    "        dones = env_info.local_done                        # see if episode finished\n",
    "        scores += env_info.rewards                         # update the score (for each agent)\n",
    "        states = next_states                               # roll over states to next time step\n",
    "        if np.any(dones):                                  # exit loop if episode finished\n",
    "            break\n",
    "    print('Total score (averaged over agents) this episode: {}'.format(np.mean(scores)))"
   ]
  },
  {
   "cell_type": "code",
   "execution_count": 43,
   "metadata": {},
   "outputs": [
    {
     "name": "stdout",
     "output_type": "stream",
     "text": [
      "Total score (averaged over agents) this episode: -0.004999999888241291\n"
     ]
    }
   ],
   "source": [
    "multi_agent = MultiAgentDDPGwCritic(num_agents, state_size, action_size)\n",
    "multi_agent.critic_local.load_state_dict(torch.load('checkpoint_critic.pth'))\n",
    "for i in range(len(multi_agent.agents)):\n",
    "    multi_agent.agents[i].actor_local.load_state_dict(torch.load('checkpoint_actor{}.pth'.format(i)))\n",
    "watch_agent(multi_agent)"
   ]
  },
  {
   "cell_type": "code",
   "execution_count": null,
   "metadata": {},
   "outputs": [],
   "source": [
    "\n",
    "env.close()"
   ]
  }
 ],
 "metadata": {
  "kernelspec": {
   "display_name": "Python 3",
   "language": "python",
   "name": "python3"
  },
  "language_info": {
   "codemirror_mode": {
    "name": "ipython",
    "version": 3
   },
   "file_extension": ".py",
   "mimetype": "text/x-python",
   "name": "python",
   "nbconvert_exporter": "python",
   "pygments_lexer": "ipython3",
   "version": "3.6.9"
  }
 },
 "nbformat": 4,
 "nbformat_minor": 2
}
